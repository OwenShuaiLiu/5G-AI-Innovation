{
 "cells": [
  {
   "cell_type": "code",
   "execution_count": 65,
   "metadata": {},
   "outputs": [],
   "source": [
    "# Import panda library \n",
    "import pandas as pd \n",
    "import numpy as np\n",
    "import datetime\n",
    "import pytz"
   ]
  },
  {
   "cell_type": "code",
   "execution_count": 66,
   "metadata": {},
   "outputs": [],
   "source": [
    "#use these locations as cellular centroids\n",
    "excel_file = 'cellular_centroids.xlsx'\n",
    "cellular_centroids = pd.read_excel(excel_file)"
   ]
  },
  {
   "cell_type": "code",
   "execution_count": 67,
   "metadata": {},
   "outputs": [
    {
     "data": {
      "text/html": [
       "<div>\n",
       "<style scoped>\n",
       "    .dataframe tbody tr th:only-of-type {\n",
       "        vertical-align: middle;\n",
       "    }\n",
       "\n",
       "    .dataframe tbody tr th {\n",
       "        vertical-align: top;\n",
       "    }\n",
       "\n",
       "    .dataframe thead th {\n",
       "        text-align: right;\n",
       "    }\n",
       "</style>\n",
       "<table border=\"1\" class=\"dataframe\">\n",
       "  <thead>\n",
       "    <tr style=\"text-align: right;\">\n",
       "      <th></th>\n",
       "      <th>name</th>\n",
       "      <th>longitude</th>\n",
       "      <th>latitude</th>\n",
       "    </tr>\n",
       "  </thead>\n",
       "  <tbody>\n",
       "    <tr>\n",
       "      <th>0</th>\n",
       "      <td>Bowles Hall</td>\n",
       "      <td>-122.253168</td>\n",
       "      <td>37.873357</td>\n",
       "    </tr>\n",
       "    <tr>\n",
       "      <th>1</th>\n",
       "      <td>Barker Hall</td>\n",
       "      <td>-122.265490</td>\n",
       "      <td>37.873950</td>\n",
       "    </tr>\n",
       "    <tr>\n",
       "      <th>2</th>\n",
       "      <td>Doe Memorial Library / Library</td>\n",
       "      <td>-122.259560</td>\n",
       "      <td>37.872440</td>\n",
       "    </tr>\n",
       "    <tr>\n",
       "      <th>3</th>\n",
       "      <td>Bancroft Library</td>\n",
       "      <td>-122.258700</td>\n",
       "      <td>37.872300</td>\n",
       "    </tr>\n",
       "    <tr>\n",
       "      <th>4</th>\n",
       "      <td>Wheeler Hall</td>\n",
       "      <td>-122.259140</td>\n",
       "      <td>37.871290</td>\n",
       "    </tr>\n",
       "    <tr>\n",
       "      <th>...</th>\n",
       "      <td>...</td>\n",
       "      <td>...</td>\n",
       "      <td>...</td>\n",
       "    </tr>\n",
       "    <tr>\n",
       "      <th>151</th>\n",
       "      <td>Graduate Theological Union</td>\n",
       "      <td>-122.261843</td>\n",
       "      <td>37.875544</td>\n",
       "    </tr>\n",
       "    <tr>\n",
       "      <th>152</th>\n",
       "      <td>Northern Regional Library Facility</td>\n",
       "      <td>-122.334985</td>\n",
       "      <td>37.917643</td>\n",
       "    </tr>\n",
       "    <tr>\n",
       "      <th>153</th>\n",
       "      <td>Earthquake Engineering Library</td>\n",
       "      <td>-122.332485</td>\n",
       "      <td>37.918328</td>\n",
       "    </tr>\n",
       "    <tr>\n",
       "      <th>154</th>\n",
       "      <td>Maxwell Family Field and Stadium Garage</td>\n",
       "      <td>-122.252720</td>\n",
       "      <td>37.872300</td>\n",
       "    </tr>\n",
       "    <tr>\n",
       "      <th>155</th>\n",
       "      <td>Jacobs Hall</td>\n",
       "      <td>-122.258809</td>\n",
       "      <td>37.876039</td>\n",
       "    </tr>\n",
       "  </tbody>\n",
       "</table>\n",
       "<p>156 rows × 3 columns</p>\n",
       "</div>"
      ],
      "text/plain": [
       "                                        name   longitude   latitude\n",
       "0                                Bowles Hall -122.253168  37.873357\n",
       "1                                Barker Hall -122.265490  37.873950\n",
       "2             Doe Memorial Library / Library -122.259560  37.872440\n",
       "3                           Bancroft Library -122.258700  37.872300\n",
       "4                               Wheeler Hall -122.259140  37.871290\n",
       "..                                       ...         ...        ...\n",
       "151               Graduate Theological Union -122.261843  37.875544\n",
       "152       Northern Regional Library Facility -122.334985  37.917643\n",
       "153           Earthquake Engineering Library -122.332485  37.918328\n",
       "154  Maxwell Family Field and Stadium Garage -122.252720  37.872300\n",
       "155                              Jacobs Hall -122.258809  37.876039\n",
       "\n",
       "[156 rows x 3 columns]"
      ]
     },
     "execution_count": 67,
     "metadata": {},
     "output_type": "execute_result"
    }
   ],
   "source": [
    "cellular_centroids"
   ]
  },
  {
   "cell_type": "code",
   "execution_count": 68,
   "metadata": {},
   "outputs": [],
   "source": [
    "user_initial = pd.DataFrame(columns=['user_id', 'longitude', 'latitude', 'elevation', 'x_speed', 'y_speed', 'z_speed', 'x_acc', 'y_acc', 'z_acc', 'time'])"
   ]
  },
  {
   "cell_type": "code",
   "execution_count": 69,
   "metadata": {},
   "outputs": [
    {
     "data": {
      "text/html": [
       "<div>\n",
       "<style scoped>\n",
       "    .dataframe tbody tr th:only-of-type {\n",
       "        vertical-align: middle;\n",
       "    }\n",
       "\n",
       "    .dataframe tbody tr th {\n",
       "        vertical-align: top;\n",
       "    }\n",
       "\n",
       "    .dataframe thead th {\n",
       "        text-align: right;\n",
       "    }\n",
       "</style>\n",
       "<table border=\"1\" class=\"dataframe\">\n",
       "  <thead>\n",
       "    <tr style=\"text-align: right;\">\n",
       "      <th></th>\n",
       "      <th>user_id</th>\n",
       "      <th>longitude</th>\n",
       "      <th>latitude</th>\n",
       "      <th>elevation</th>\n",
       "      <th>x_speed</th>\n",
       "      <th>y_speed</th>\n",
       "      <th>z_speed</th>\n",
       "      <th>x_acc</th>\n",
       "      <th>y_acc</th>\n",
       "      <th>z_acc</th>\n",
       "      <th>time</th>\n",
       "    </tr>\n",
       "  </thead>\n",
       "  <tbody>\n",
       "  </tbody>\n",
       "</table>\n",
       "</div>"
      ],
      "text/plain": [
       "Empty DataFrame\n",
       "Columns: [user_id, longitude, latitude, elevation, x_speed, y_speed, z_speed, x_acc, y_acc, z_acc, time]\n",
       "Index: []"
      ]
     },
     "execution_count": 69,
     "metadata": {},
     "output_type": "execute_result"
    }
   ],
   "source": [
    "user_initial"
   ]
  },
  {
   "cell_type": "code",
   "execution_count": 70,
   "metadata": {},
   "outputs": [],
   "source": [
    "pst_timezone = pytz.timezone(\"US/Pacific\")\n",
    "time=datetime.datetime.now(pst_timezone).time()"
   ]
  },
  {
   "cell_type": "code",
   "execution_count": 71,
   "metadata": {},
   "outputs": [
    {
     "name": "stdout",
     "output_type": "stream",
     "text": [
      "15:34:11.481555\n"
     ]
    }
   ],
   "source": [
    "print(time)"
   ]
  },
  {
   "cell_type": "code",
   "execution_count": 72,
   "metadata": {},
   "outputs": [],
   "source": [
    "# generate 10,000 users\n",
    "def initialize_user(user_initial, cellular_centroids, time):\n",
    "    for i in range (1, 10001):\n",
    "        \n",
    "        #get a random center\n",
    "        random_cellular = cellular_centroids.sample(n=1)\n",
    "        random_cellular\n",
    "        \n",
    "        #user id\n",
    "        user_id = i\n",
    "        \n",
    "        #longitude\n",
    "        longitude = random_cellular.iloc[0,1] + np.random.randn()*0.0002\n",
    "        \n",
    "        #latitude\n",
    "        latitude = random_cellular.iloc[0,2] + np.random.randn()*0.0005\n",
    "        \n",
    "        #elevation\n",
    "        t = np.random.randn()\n",
    "        if t<0:\n",
    "            elevation = 52 + t*5\n",
    "        else:\n",
    "            elevation = 52 + t*20\n",
    "            \n",
    "        #speed\n",
    "        x_speed = 5*np.random.randn()\n",
    "        y_speed = 5*np.random.randn()\n",
    "        z_speed = 1*np.random.randn()\n",
    "        \n",
    "        #acceleration\n",
    "        x_acc = 3*np.random.randn()\n",
    "        y_acc = 3*np.random.randn()\n",
    "        z_acc = 3*np.random.randn()\n",
    "        \n",
    "        #time\n",
    "          \n",
    "        user_initial = user_initial.append({'user_id':user_id, 'longitude': longitude, 'latitude':latitude, 'elevation':elevation, 'x_speed':x_speed, 'y_speed':y_speed, 'z_speed':z_speed, 'x_acc':x_acc, 'y_acc':y_acc, 'z_acc':z_acc, 'time':time} , ignore_index=True)\n",
    "        \n",
    "    return user_initial"
   ]
  },
  {
   "cell_type": "code",
   "execution_count": null,
   "metadata": {},
   "outputs": [],
   "source": [
    "user_initial = initialize_user(user_initial, cellular_centroids, time)"
   ]
  },
  {
   "cell_type": "code",
   "execution_count": null,
   "metadata": {},
   "outputs": [],
   "source": [
    "user_initial"
   ]
  },
  {
   "cell_type": "code",
   "execution_count": null,
   "metadata": {},
   "outputs": [],
   "source": []
  }
 ],
 "metadata": {
  "kernelspec": {
   "display_name": "Python 3",
   "language": "python",
   "name": "python3"
  },
  "language_info": {
   "codemirror_mode": {
    "name": "ipython",
    "version": 3
   },
   "file_extension": ".py",
   "mimetype": "text/x-python",
   "name": "python",
   "nbconvert_exporter": "python",
   "pygments_lexer": "ipython3",
   "version": "3.7.6"
  }
 },
 "nbformat": 4,
 "nbformat_minor": 4
}
